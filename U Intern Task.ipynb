{
 "cells": [
  {
   "cell_type": "markdown",
   "metadata": {},
   "source": [
    "# Part 1 ( Python ):\n"
   ]
  },
  {
   "cell_type": "markdown",
   "metadata": {},
   "source": [
    "### Q1: \n",
    "    Write a program that computes the value of a+aa+aaa+aaaa with a given digit as the value of a. Suppose the following input is supplied to the program: 9 Then, the output should be: 11106"
   ]
  },
  {
   "cell_type": "code",
   "execution_count": 1,
   "metadata": {},
   "outputs": [
    {
     "name": "stdout",
     "output_type": "stream",
     "text": [
      "9\n",
      "11106\n"
     ]
    }
   ],
   "source": [
    "s = 'a+aa+aaa+aaaa'.split('+')\n",
    "n = input()\n",
    "print(sum(int(n*len(i)) for i in s))"
   ]
  },
  {
   "cell_type": "markdown",
   "metadata": {},
   "source": [
    "### Q2:\n",
    "    Please write a program to print the running time of execution of \"1+1\" for 100 times.\n"
   ]
  },
  {
   "cell_type": "code",
   "execution_count": 4,
   "metadata": {},
   "outputs": [
    {
     "name": "stdout",
     "output_type": "stream",
     "text": [
      "0.0\n",
      "0.0\n",
      "0.0\n",
      "0.0\n",
      "0.0\n",
      "0.0\n",
      "0.0\n",
      "0.0\n",
      "0.0\n",
      "0.0\n",
      "0.0\n",
      "0.0\n",
      "0.0\n",
      "0.0\n",
      "0.0\n",
      "0.0\n",
      "0.0\n",
      "0.008091449737548828\n",
      "0.008091449737548828\n",
      "0.008091449737548828\n",
      "0.008091449737548828\n",
      "0.008091449737548828\n",
      "0.010014772415161133\n",
      "0.010014772415161133\n",
      "0.010014772415161133\n",
      "0.010014772415161133\n",
      "0.010014772415161133\n",
      "0.010014772415161133\n",
      "0.010014772415161133\n",
      "0.010014772415161133\n",
      "0.010014772415161133\n",
      "0.010014772415161133\n",
      "0.010014772415161133\n",
      "0.010014772415161133\n",
      "0.010014772415161133\n",
      "0.010014772415161133\n",
      "0.010014772415161133\n",
      "0.011010885238647461\n",
      "0.011010885238647461\n",
      "0.011010885238647461\n",
      "0.011010885238647461\n",
      "0.011010885238647461\n",
      "0.011010885238647461\n",
      "0.011010885238647461\n",
      "0.012545108795166016\n",
      "0.012545108795166016\n",
      "0.012545108795166016\n",
      "0.013539314270019531\n",
      "0.013539314270019531\n",
      "0.013539314270019531\n",
      "0.013539314270019531\n",
      "0.013539314270019531\n",
      "0.013539314270019531\n",
      "0.013539314270019531\n",
      "0.013539314270019531\n",
      "0.014583349227905273\n",
      "0.014583349227905273\n",
      "0.014583349227905273\n",
      "0.014583349227905273\n",
      "0.014583349227905273\n",
      "0.014583349227905273\n",
      "0.014583349227905273\n",
      "0.014583349227905273\n",
      "0.014583349227905273\n",
      "0.014583349227905273\n",
      "0.014583349227905273\n",
      "0.014583349227905273\n",
      "0.014583349227905273\n",
      "0.014583349227905273\n",
      "0.014583349227905273\n",
      "0.014583349227905273\n",
      "0.014583349227905273\n",
      "0.014583349227905273\n",
      "0.014583349227905273\n",
      "0.014583349227905273\n",
      "0.014583349227905273\n",
      "0.014583349227905273\n",
      "0.014583349227905273\n",
      "0.014583349227905273\n",
      "0.014583349227905273\n",
      "0.014583349227905273\n",
      "0.014583349227905273\n",
      "0.014583349227905273\n",
      "0.01810002326965332\n",
      "0.01810002326965332\n",
      "0.01810002326965332\n",
      "0.01810002326965332\n",
      "0.01909661293029785\n",
      "0.01909661293029785\n",
      "0.01909661293029785\n",
      "0.01909661293029785\n",
      "0.01909661293029785\n",
      "0.019735097885131836\n",
      "0.019735097885131836\n",
      "0.019735097885131836\n",
      "0.019735097885131836\n",
      "0.019735097885131836\n",
      "0.019735097885131836\n",
      "0.019735097885131836\n",
      "0.019735097885131836\n"
     ]
    }
   ],
   "source": [
    "import time\n",
    "start_op =  time.time()\n",
    "for i in range(100): ## constent o(1)\n",
    "    tmp = \"1+1\"\n",
    "    #now = time.time()\n",
    "    print(time.time()-start_op)\n",
    "    "
   ]
  },
  {
   "cell_type": "markdown",
   "metadata": {},
   "source": [
    "### Q3:\n",
    "    You are required to write a program to sort the (name, age, height) tuples by ascending order where name is string, age and height are numbers. The tuples are input by console. The sort criteria is: 1: Sort based on name; 2: Then sort based on age; 3: Then sort by score. The priority is that name > age > score. If the following tuples are given as input to the program: Tom,19,80 John,20,90 Jony,17,91 Jony,17,93 Json,21,85 Then, the output of the program should be: [('John', '20', '90'), ('Jony', '17', '91'), ('Jony', '17', '93'), ('Json', '21', '85'), ('Tom', '19', '80')]"
   ]
  },
  {
   "cell_type": "code",
   "execution_count": 5,
   "metadata": {},
   "outputs": [
    {
     "name": "stdout",
     "output_type": "stream",
     "text": [
      "Tom,19,80 John,20,90 Jony,17,91 Jony,17,93 Json,21,85\n",
      "[('John', '20', '90'), ('Jony', '17', '91'), ('Jony', '17', '93'), ('Json', '21', '85'), ('Tom', '19', '80')]\n"
     ]
    }
   ],
   "source": [
    "data = [tuple(df.split(',')) for df in input().split( )]\n",
    "\n",
    "print(sorted(data , key = lambda l :( l[0] , l[1] , l[-1] ) ))"
   ]
  },
  {
   "cell_type": "markdown",
   "metadata": {},
   "source": [
    "### Q4:\n",
    "    Write a Python program to count the number of characters (character frequency) in a string.\n",
    "\n",
    "Examble: ('google.com') => {'g': 2, 'o': 3, 'l': 1, 'e': 1, '.': 1, 'c': 1, 'm': 1}"
   ]
  },
  {
   "cell_type": "code",
   "execution_count": 1,
   "metadata": {},
   "outputs": [
    {
     "name": "stdout",
     "output_type": "stream",
     "text": [
      "google.com\n",
      "Counter({'o': 3, 'g': 2, 'l': 1, 'e': 1, '.': 1, 'c': 1, 'm': 1})\n",
      "{'g': 2, 'o': 3, 'l': 1, 'e': 1, '.': 1, 'c': 1, 'm': 1}\n"
     ]
    }
   ],
   "source": [
    "from collections import Counter \n",
    "S = input()\n",
    "count = Counter(S)\n",
    "print(count)\n",
    "### using dictionary\n",
    "dic = {}\n",
    "for i in S:\n",
    "    if i not in dic :\n",
    "        dic[i] = 1\n",
    "    else :\n",
    "        dic[i] += 1\n",
    "print(dic)\n"
   ]
  },
  {
   "cell_type": "markdown",
   "metadata": {},
   "source": [
    "\n",
    "### Q5:\n",
    "    Write a Python program to add 'ing' at the end of a given string (length should be at least 3). If the given string already ends with 'ing' then add 'ly' instead. If the string length of the given string is less than 3, leave it unchanged.\n",
    "Examble \n",
    "\n",
    "        => ab => ab\n",
    "\n",
    "        => abc => abcing \n",
    "        \n",
    "        => string => stringly"
   ]
  },
  {
   "cell_type": "code",
   "execution_count": 3,
   "metadata": {},
   "outputs": [
    {
     "name": "stdout",
     "output_type": "stream",
     "text": [
      "ab\n",
      "ab\n"
     ]
    }
   ],
   "source": [
    "def solution():\n",
    "    S = input()\n",
    "    if len(S) < 3 :\n",
    "        return S\n",
    "    if S[-3:] == 'ing':\n",
    "        return S+'ly'\n",
    "    return S+'ing'\n",
    "print(solution())"
   ]
  },
  {
   "cell_type": "markdown",
   "metadata": {},
   "source": [
    "### Q6:\n",
    "    Write a Python program to add 5 seconds with the current time.\n",
    "\n",
    "Examble: Current time=> 13:09:38.491219 After 5 seconds => 13:09:43.491219"
   ]
  },
  {
   "cell_type": "code",
   "execution_count": 2,
   "metadata": {},
   "outputs": [
    {
     "name": "stdout",
     "output_type": "stream",
     "text": [
      "06:56:01.368252\n",
      "06:56:06.368252\n"
     ]
    }
   ],
   "source": [
    "import datetime as t\n",
    "now =t.datetime.now()\n",
    "print(now.time())\n",
    "after_5sec = now + t.timedelta(0,5)\n",
    "print(after_5sec.time())"
   ]
  },
  {
   "cell_type": "markdown",
   "metadata": {},
   "source": [
    "### Q7:\n",
    "\n",
    "Please solve this problem and write your code here?\n",
    "\n",
    "https://www.hackerrank.com/challenges/np-polynomials/problem"
   ]
  },
  {
   "cell_type": "code",
   "execution_count": 3,
   "metadata": {},
   "outputs": [
    {
     "name": "stdout",
     "output_type": "stream",
     "text": [
      "1.1 2 3\n",
      "0\n",
      "3.0\n"
     ]
    }
   ],
   "source": [
    "import numpy as np\n",
    "\n",
    "p= np.array(input().split() , float)\n",
    "print(np.polyval(p , int(input())))\n"
   ]
  },
  {
   "cell_type": "markdown",
   "metadata": {},
   "source": [
    "### Q8:\n",
    "\n",
    "Please solve this problem and write your code here?\n",
    "\n",
    "https://www.hackerrank.com/challenges/np-linear-algebra/problem"
   ]
  },
  {
   "cell_type": "code",
   "execution_count": null,
   "metadata": {},
   "outputs": [],
   "source": [
    "## this is my solution submit 4 months ago\n",
    "####   https://www.hackerrank.com/challenges/np-linear-algebra/copy-from/148143870\n",
    "import numpy as np\n",
    "n = int(input())\n",
    "print( round(np.linalg.det([list(map(float  , input().split())) for i in range(n)])   , 2 ))\n"
   ]
  },
  {
   "cell_type": "markdown",
   "metadata": {},
   "source": [
    "# Part2 (GUI):\n",
    "    Please create simple calculator like this image ( with the same colors and architecture ) "
   ]
  },
  {
   "cell_type": "markdown",
   "metadata": {},
   "source": [
    "![caption](files/image.jpg)"
   ]
  },
  {
   "cell_type": "code",
   "execution_count": 5,
   "metadata": {},
   "outputs": [],
   "source": [
    "import tkinter as tk\n",
    "from tkinter import *\n",
    "\n",
    "\n",
    "class Calculator(tk.Frame):\n",
    "    def __init__(self, master = None):\n",
    "        super().__init__(master)\n",
    "        self.master = master\n",
    "        self.font = ('Verdana', 20)\n",
    "        self.string = 'Start Calculating'\n",
    "        self.W = 4\n",
    "        self.H = 1\n",
    "        self.pack()\n",
    "        self.create_widgets()\n",
    "    def create_widgets(self):\n",
    "        self.frame = Frame(self)\n",
    "        self.frame.grid(row= 6, column=4)\n",
    "    \n",
    "        self.entry()\n",
    "        self.button(7 , 1, 1)\n",
    "        self.button(8 , 1, 0)\n",
    "        self.button(9 , 1, 2)\n",
    "\n",
    "        \n",
    "        self.button( 4 , 2, 0)\n",
    "        self.button( 5 , 2, 1)\n",
    "        self.button( 6 , 2, 2)\n",
    "        self.colored_button('+', 2, 3 , fg='black', bg='yellow')\n",
    "        \n",
    "        self.button( 1 , 3, 0)\n",
    "        self.button( 2 , 3, 1)\n",
    "        self.button( 3 , 3, 2)\n",
    "        self.colored_button('-', 3, 3 , fg='black', bg='yellow')\n",
    "        \n",
    "        self.button( 0 , 4, 0)\n",
    "        self.colored_button('.' , 4, 1 , fg='black', bg='yellow')\n",
    "        self.colored_button('/' , 4, 2 , fg='black', bg='yellow')\n",
    "        self.colored_button('*', 4, 3 , fg='black', bg='yellow')\n",
    "        \n",
    "        self.ans('=' , 5, 0 , fg='black', bg='green')\n",
    "        self.colored_button('(' , 5, 2 , fg='black', bg='yellow')\n",
    "        self.colored_button(')', 5, 3 , fg='black', bg='yellow')\n",
    "        self.clear('C', 1, 3)\n",
    "    \n",
    "    def ans(self , ch , X , Y  , fg , bg ):\n",
    "        self.b = Button( self.frame , text = ch , fg = fg , bg = bg ,  height = self.H , width = self.W ,  font=self.font ,command = self.equal_button)\n",
    "        self.b.grid( row = X , column = Y, columnspan=2, sticky='we')\n",
    "    \n",
    "    def clear(self , ch , X , Y ):\n",
    "        self.b = Button( self.frame , text = ch , bg='green',  height = self.H , width = self.W ,  font=self.font   , command = self.clr )\n",
    "        self.b.grid( row = X , column = Y , sticky='we')\n",
    "    \n",
    "        \n",
    "    \n",
    "    def colored_button(self, ch , X , Y  , fg , bg ):\n",
    "        self.b = Button(self.frame , text=ch , fg = fg , bg = bg ,  height = self.H , width = self.W ,  font=self.font )\n",
    "        self.b['command'] = lambda:self.click_button(ch)\n",
    "        self.b.grid( row = X , column = Y , sticky='we')\n",
    "        \n",
    "    def button(self, ch , X , Y ):\n",
    "        self.b = Button(self.frame , text=ch , height = self.H , width = self.W , font=self.font)\n",
    "        self.b['command'] = lambda:self.click_button(str(ch))\n",
    "        self.b.grid( row = X , column = Y ,sticky='we')\n",
    "    \n",
    "    def entry(self):\n",
    "        self.Ent = Entry(self.frame , textvariable = self.string , bg ='green' , font=self.font )\n",
    "        self.Ent['relief'] = tk.SUNKEN\n",
    "        self.Ent.grid(row= 0 , column = 0 , columnspan = 4, sticky='we')\n",
    "        self.to_display(self.string)\n",
    "        self.string = ''\n",
    "        \n",
    "    def to_display(self, string):\n",
    "        self.Ent.config(state=NORMAL)\n",
    "        self.Ent.delete('0', END)\n",
    "        self.Ent.insert('0', string)\n",
    "        self.Ent.config()\n",
    "    def click_button(self , number):\n",
    "        self.string +=  number\n",
    "        self.to_display(self.string)\n",
    "    def equal_button(self):\n",
    "        self.to_display(eval(self.string))\n",
    "        self.string = '' \n",
    "    def clr(self):\n",
    "        self.to_display('')\n",
    "        self.string =''\n",
    "        \n",
    "window = Tk()\n",
    "window.title('Calculator')\n",
    "cal = Calculator(window)\n",
    "window.mainloop()"
   ]
  }
 ],
 "metadata": {
  "kernelspec": {
   "display_name": "Python 3",
   "language": "python",
   "name": "python3"
  },
  "language_info": {
   "codemirror_mode": {
    "name": "ipython",
    "version": 3
   },
   "file_extension": ".py",
   "mimetype": "text/x-python",
   "name": "python",
   "nbconvert_exporter": "python",
   "pygments_lexer": "ipython3",
   "version": "3.7.0"
  }
 },
 "nbformat": 4,
 "nbformat_minor": 4
}
